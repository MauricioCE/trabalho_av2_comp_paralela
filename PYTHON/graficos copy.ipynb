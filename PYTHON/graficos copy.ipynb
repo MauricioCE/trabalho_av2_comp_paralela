{
 "cells": [
  {
   "cell_type": "markdown",
   "id": "17ac4037",
   "metadata": {},
   "source": [
    "#### <span style=\"color:#dcdc9f;font-weight: 600\">Imports iniciais</span>"
   ]
  },
  {
   "cell_type": "code",
   "execution_count": null,
   "id": "5c729801",
   "metadata": {},
   "outputs": [],
   "source": [
    "import pandas as pd\n",
    "import matplotlib.pyplot as plt\n",
    "import seaborn as sns"
   ]
  },
  {
   "cell_type": "markdown",
   "id": "dd206355",
   "metadata": {},
   "source": [
    "#### <span style=\"color:#dcdc9f;font-weight: 600\">Configurando</span>"
   ]
  },
  {
   "cell_type": "code",
   "execution_count": null,
   "id": "b2175ee6",
   "metadata": {},
   "outputs": [],
   "source": [
    "sns.set_style(\"whitegrid\")\n",
    "plt.style.use(\"seaborn-v0_8-whitegrid\")\n",
    "sns.set_palette(\"deep\")"
   ]
  },
  {
   "cell_type": "markdown",
   "id": "72b06bde",
   "metadata": {},
   "source": [
    "#### <span style=\"color:#dcdc9f;font-weight: 600\">Lendo e mostrando dados não tratados</span>"
   ]
  },
  {
   "cell_type": "code",
   "execution_count": null,
   "id": "b8d1bb31",
   "metadata": {},
   "outputs": [],
   "source": [
    "df = pd.read_csv('../Resultados/metricas_resultados.csv', delimiter=';')\n",
    "df.head()"
   ]
  },
  {
   "cell_type": "markdown",
   "id": "ff710ca8",
   "metadata": {},
   "source": [
    "#### <span style=\"color:#dcdc9f;font-weight: 600\">Configurando</span>"
   ]
  },
  {
   "cell_type": "code",
   "execution_count": null,
   "id": "82ae8a39",
   "metadata": {},
   "outputs": [],
   "source": [
    "df.groupby(\"Tipo\")[\"Duração (ms)\"].describe().round(3)"
   ]
  },
  {
   "cell_type": "code",
   "execution_count": null,
   "id": "0c987b53",
   "metadata": {},
   "outputs": [],
   "source": [
    "df.groupby(\"Algoritmo\")[\"Duração (ms)\"].describe().round(3)"
   ]
  },
  {
   "cell_type": "code",
   "execution_count": null,
   "id": "b74bce3b",
   "metadata": {},
   "outputs": [],
   "source": [
    "df.groupby([\"Tipo\", \"Algoritmo\"])[\"Duração (ms)\"].describe().round(3)"
   ]
  },
  {
   "cell_type": "code",
   "execution_count": null,
   "id": "46d901f4",
   "metadata": {},
   "outputs": [],
   "source": [
    "df.groupby([\"Tipo\", \"Quant. de threads\"])[\"Duração (ms)\"].agg(\n",
    "    [\"mean\", \"std\", \"min\", \"max\", \"count\"]\n",
    ").round(3)"
   ]
  },
  {
   "cell_type": "code",
   "execution_count": null,
   "id": "674ab785",
   "metadata": {},
   "outputs": [],
   "source": [
    "df.groupby([\"Algoritmo\", \"Tamanho do array\"])[\"Duração (ms)\"].agg(\n",
    "    [\"mean\", \"std\", \"min\", \"max\"]\n",
    ").round(3)"
   ]
  },
  {
   "cell_type": "code",
   "execution_count": null,
   "id": "463dc50f",
   "metadata": {},
   "outputs": [],
   "source": [
    "plt.figure(figsize=(8,5))\n",
    "sns.boxplot(data=df, x=\"Algoritmo\", y=\"Duração (ms)\")\n",
    "plt.title(\"Distribuição de duração por algoritmo\")\n",
    "plt.show()"
   ]
  },
  {
   "cell_type": "code",
   "execution_count": null,
   "id": "bff50062",
   "metadata": {},
   "outputs": [],
   "source": [
    "pd.pivot_table(\n",
    "    df,\n",
    "    values=\"Duração (ms)\",\n",
    "    index=\"Tamanho do array\",\n",
    "    columns=\"Tipo\",\n",
    "    aggfunc=\"mean\"\n",
    ").round(3)"
   ]
  },
  {
   "cell_type": "markdown",
   "id": "afefd026",
   "metadata": {},
   "source": [
    "#### <span style=\"color:#dcdc9f;font-weight: 600\">Desempenho por número de threads (somente paralelos)</span>"
   ]
  },
  {
   "cell_type": "code",
   "execution_count": null,
   "id": "5cf96d8e",
   "metadata": {},
   "outputs": [],
   "source": [
    "plt.figure(figsize=(10,6))\n",
    "sns.lineplot(\n",
    "    data=df[df[\"Tipo\"].str.contains(\"Paralelo\", case=False, na=False)],\n",
    "    x=\"Quant. de threads\", y=\"Duração (ms)\",\n",
    "    hue=\"Tamanho do array\", marker=\"o\"\n",
    ")\n",
    "plt.title(\"Desempenho do algoritmo paralelo por número de threads\")\n",
    "plt.xlabel(\"Quantidade de threads\")\n",
    "plt.ylabel(\"Duração (ms)\")\n",
    "plt.show()"
   ]
  },
  {
   "cell_type": "markdown",
   "id": "b85cc7c7",
   "metadata": {},
   "source": [
    "#### <span style=\"color:#dcdc9f;font-weight: 600\">Comparação Serial x Paralelo</span>"
   ]
  },
  {
   "cell_type": "code",
   "execution_count": null,
   "id": "6e350b01",
   "metadata": {},
   "outputs": [],
   "source": [
    "plt.figure(figsize=(10,6))\n",
    "sns.barplot(\n",
    "    data=df, x=\"Tamanho do array\", y=\"Duração (ms)\",\n",
    "    hue=\"Tipo\"\n",
    ")\n",
    "plt.title(\"Comparação de desempenho: Serial vs Paralelo\")\n",
    "plt.xlabel(\"Tamanho do array\")\n",
    "plt.ylabel(\"Duração (ms)\")\n",
    "plt.show()"
   ]
  },
  {
   "cell_type": "markdown",
   "id": "b9c72d0c",
   "metadata": {},
   "source": [
    "#### <span style=\"color:#dcdc9f;font-weight: 600\">Cálculo de Speedup (Serial / Paralelo)</span>"
   ]
  },
  {
   "cell_type": "code",
   "execution_count": null,
   "id": "31a69c1d",
   "metadata": {},
   "outputs": [],
   "source": [
    "base_serial = (\n",
    "    df[df[\"Tipo\"].str.contains(\"Serial\", case=False, na=False)]\n",
    "    .set_index(\"Tamanho do array\")[\"Duração (ms)\"]\n",
    ")\n",
    "\n",
    "def calcular_speedup(row):\n",
    "    if \"Paralelo\" in row[\"Tipo\"]:\n",
    "        return base_serial.get(row[\"Tamanho do array\"], None) / row[\"Duração (ms)\"]\n",
    "    return 1\n",
    "\n",
    "df[\"Speedup\"] = df.apply(calcular_speedup, axis=1)\n",
    "\n",
    "plt.figure(figsize=(8,5))\n",
    "sns.lineplot(\n",
    "    data=df[df[\"Tipo\"].str.contains(\"Paralelo\", case=False, na=False)],\n",
    "    x=\"Quant. de threads\", y=\"Speedup\",\n",
    "    hue=\"Tamanho do array\", marker=\"o\"\n",
    ")\n",
    "plt.title(\"Speedup do algoritmo paralelo\")\n",
    "plt.xlabel(\"Quantidade de threads\")\n",
    "plt.ylabel(\"Speedup (vezes mais rápido que Serial)\")\n",
    "plt.show()"
   ]
  },
  {
   "cell_type": "markdown",
   "id": "df9b03c9",
   "metadata": {},
   "source": [
    "#### <span style=\"color:#dcdc9f;font-weight: 600\">Relações entre variáveis (Pairplot)</span>"
   ]
  },
  {
   "cell_type": "code",
   "execution_count": null,
   "id": "9aa6950f",
   "metadata": {},
   "outputs": [],
   "source": [
    "sns.pairplot(\n",
    "    df,\n",
    "    vars=[\"Tamanho do array\", \"Quant. de threads\", \"Duração (ms)\"],\n",
    "    hue=\"Tipo\"\n",
    ")\n",
    "plt.suptitle(\"Relações entre variáveis de desempenho\", y=1.02)\n",
    "plt.show()"
   ]
  }
 ],
 "metadata": {
  "kernelspec": {
   "display_name": "Python 3",
   "language": "python",
   "name": "python3"
  },
  "language_info": {
   "codemirror_mode": {
    "name": "ipython",
    "version": 3
   },
   "file_extension": ".py",
   "mimetype": "text/x-python",
   "name": "python",
   "nbconvert_exporter": "python",
   "pygments_lexer": "ipython3",
   "version": "3.13.7"
  }
 },
 "nbformat": 4,
 "nbformat_minor": 5
}
