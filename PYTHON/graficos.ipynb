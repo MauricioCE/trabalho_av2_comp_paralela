{
 "cells": [
  {
   "cell_type": "markdown",
   "id": "17ac4037",
   "metadata": {},
   "source": [
    "#### <span style=\"color:#dcdc9f;font-weight: 600\">Imports iniciais</span>"
   ]
  },
  {
   "cell_type": "code",
   "execution_count": null,
   "id": "5c729801",
   "metadata": {},
   "outputs": [],
   "source": [
    "import pandas as pd\n",
    "import matplotlib.pyplot as plt\n",
    "import seaborn as sns\n",
    "import locale"
   ]
  },
  {
   "cell_type": "markdown",
   "id": "dd206355",
   "metadata": {},
   "source": [
    "#### <span style=\"color:#dcdc9f;font-weight: 600\">Configurando</span>"
   ]
  },
  {
   "cell_type": "code",
   "execution_count": null,
   "id": "b2175ee6",
   "metadata": {},
   "outputs": [],
   "source": [
    "sns.set_style(\"whitegrid\")\n",
    "plt.style.use(\"seaborn-v0_8-whitegrid\")\n",
    "sns.set_palette(\"deep\")\n",
    "locale.setlocale(locale.LC_ALL, 'pt_BR.UTF-8')\n",
    "\n",
    "THREADS_VALUES = [2, 4, 8, 10, 24]\n",
    "\n",
    "df = pd.read_csv('../Resultados/metricas_resultados.csv', delimiter=';')"
   ]
  },
  {
   "cell_type": "markdown",
   "id": "72b06bde",
   "metadata": {},
   "source": [
    "#### <span style=\"color:#dcdc9f;font-weight: 600\">Dados não tratados</span>"
   ]
  },
  {
   "cell_type": "code",
   "execution_count": null,
   "id": "b8d1bb31",
   "metadata": {},
   "outputs": [],
   "source": [
    "df.head(1000)"
   ]
  },
  {
   "cell_type": "markdown",
   "id": "3db02466",
   "metadata": {},
   "source": [
    "## <span style=\"color:#dcdc9f;font-weight: 600\">Tabelas</span>"
   ]
  },
  {
   "cell_type": "code",
   "execution_count": null,
   "id": "dca9df6d",
   "metadata": {},
   "outputs": [],
   "source": [
    "tabela = df.groupby([\"Algoritmo\", \"Tipo\"])[\"Duração (ms)\"].agg(\n",
    "    media=\"mean\",\n",
    "    min=\"min\",\n",
    "    max=\"max\",\n",
    ").round(3)\n",
    "\n",
    "tabela_formatada = tabela.applymap(lambda x: locale.format_string(\"%.3f\", x, grouping=True))\n",
    "tabela_formatada"
   ]
  },
  {
   "cell_type": "code",
   "execution_count": null,
   "id": "0c2bf538",
   "metadata": {},
   "outputs": [],
   "source": [
    "tabela = df.groupby([\"Algoritmo\", \"Tipo\"])[\"Duração (ms)\"].agg(\n",
    "    media=\"mean\",\n",
    "    min=\"min\",\n",
    "    max=\"max\",\n",
    ").round(3)\n",
    "\n",
    "tabela_formatada = tabela.applymap(lambda x: locale.format_string(\"%.3f\", x, grouping=True))\n",
    "tabela_formatada"
   ]
  },
  {
   "cell_type": "code",
   "execution_count": null,
   "id": "f6a095b2",
   "metadata": {},
   "outputs": [],
   "source": [
    "df_filtrado = df[df[\"Tamanho do array\"] > 10000]\n",
    "tabela = df_filtrado.groupby([\"Algoritmo\", \"Tipo\", \"Tamanho do array\"])[\"Duração (ms)\"].agg(\n",
    "    media=\"mean\",\n",
    "    min=\"min\",\n",
    "    max=\"max\",\n",
    ").round(3)\n",
    "\n",
    "tabela"
   ]
  },
  {
   "cell_type": "code",
   "execution_count": null,
   "id": "5dfea326",
   "metadata": {},
   "outputs": [],
   "source": [
    "df_filtrado_novo = df[df[\"Tamanho do array\"] == 10_000_000]\n",
    "tabela = df_filtrado_novo.groupby([\"Algoritmo\", \"Tipo\", \"Quant. de threads\"])[\"Duração (ms)\"].agg(\n",
    "    media=\"mean\",\n",
    "    min=\"min\",\n",
    "    max=\"max\",\n",
    ").round(3)\n",
    "\n",
    "tabela"
   ]
  },
  {
   "cell_type": "markdown",
   "id": "89375246",
   "metadata": {},
   "source": [
    "## <span style=\"color:#dcdc9f;font-weight: 600\">Gráficos</span>"
   ]
  },
  {
   "cell_type": "code",
   "execution_count": null,
   "id": "a30def96",
   "metadata": {},
   "outputs": [],
   "source": [
    "media_tempo = (\n",
    "    df.groupby([\"Algoritmo\", \"Tipo\"])[\"Duração (ms)\"]\n",
    "      .mean()\n",
    "      .reset_index()\n",
    ")\n",
    "\n",
    "plt.figure(figsize=(10, 6))\n",
    "grafico = sns.barplot(data=media_tempo, x=\"Algoritmo\", y=\"Duração (ms)\", hue=\"Tipo\")\n",
    "plt.title(\"Comparação de Tempo: Serial vs Paralelo\")\n",
    "plt.ylabel(\"Duração média (ms)\")\n",
    "plt.xlabel(\"Algoritmo\")\n",
    "plt.xticks(rotation=45)\n",
    "\n",
    "for barra in grafico.patches:\n",
    "    altura = barra.get_height()\n",
    "    grafico.annotate(f'{altura:.1f}', \n",
    "                     xy=(barra.get_x() + barra.get_width() / 2, altura),\n",
    "                     xytext=(0, 5), \n",
    "                     textcoords=\"offset points\",\n",
    "                     ha='center', va='bottom')\n",
    "\n",
    "plt.tight_layout()\n",
    "plt.show()\n"
   ]
  },
  {
   "cell_type": "code",
   "execution_count": null,
   "id": "bf0a0e9b",
   "metadata": {},
   "outputs": [],
   "source": [
    "tabela = df.groupby([\"Tipo\", \"Algoritmo\"])[\"Duração (ms)\"].mean().unstack()\n",
    "algoritmo_serial = \"SERIAL\"\n",
    "speedup = tabela.apply(lambda linha: linha[algoritmo_serial] / linha)\n",
    "speedup_formatado = speedup.round(3).applymap(lambda x: locale.format_string(\"%.3f\", x, grouping=True))\n",
    "speedup_formatado\n",
    "\n",
    "speedup_plot = tabela.apply(lambda linha: linha[algoritmo_serial] / linha)\n",
    "fig, ax = plt.subplots(figsize=(10, 6))\n",
    "bars = speedup_plot.plot(kind=\"bar\", ax=ax)\n",
    "\n",
    "ax.set_title(\"Speedup Paralelismo e Serial\", fontsize=14)\n",
    "ax.set_ylabel(\"Speedup\", fontsize=12)\n",
    "ax.set_xlabel(\"Tipo de tarefa\", fontsize=12)\n",
    "ax.legend(title=\"Algoritmo\")\n",
    "ax.grid(True, linestyle=\"--\", alpha=0.5)\n",
    "\n",
    "for container in bars.containers:\n",
    "    for bar in container:\n",
    "        height = bar.get_height()\n",
    "        if not pd.isna(height):\n",
    "            ax.text(\n",
    "                bar.get_x() + bar.get_width() / 2,\n",
    "                height,\n",
    "                f\"{height:.2f}\",\n",
    "                ha=\"center\",\n",
    "                va=\"bottom\",\n",
    "                fontsize=9,\n",
    "                rotation=0\n",
    "            )\n",
    "\n",
    "plt.tight_layout()\n",
    "plt.show()"
   ]
  },
  {
   "cell_type": "markdown",
   "id": "fdb29170",
   "metadata": {},
   "source": []
  },
  {
   "cell_type": "code",
   "execution_count": null,
   "id": "8e8d6ef7",
   "metadata": {},
   "outputs": [
    {
     "data": {
      "image/png": "[encoded data removed]",
      "text/plain": [
       "<Figure size 1000x600 with 1 Axes>"
      ]
     },
     "metadata": {},
     "output_type": "display_data"
    }
   ],
   "source": [
    "tabela_completa = df.groupby([\"Tipo\", \"Algoritmo\", \"Quant. de threads\"])[\"Duração (ms)\"].mean().reset_index()\n",
    "\n",
    "tipo_serial = \"SERIAL\"\n",
    "\n",
    "serial_times = tabela_completa[tabela_completa[\"Tipo\"] == tipo_serial][[\"Algoritmo\", \"Duração (ms)\"]]\n",
    "serial_times = serial_times.rename(columns={\"Duração (ms)\": \"Duração Serial\"})\n",
    "\n",
    "tabela_paralela = tabela_completa[tabela_completa[\"Tipo\"] != tipo_serial].copy()\n",
    "\n",
    "tabela_plot = tabela_paralela.merge(serial_times, on=[\"Algoritmo\"])\n",
    "\n",
    "tabela_plot[\"Speedup\"] = tabela_plot[\"Duração Serial\"] / tabela_plot[\"Duração (ms)\"]\n",
    "\n",
    "tabela_plot[\"Quant. de threads\"] = pd.to_numeric(tabela_plot[\"Quant. de threads\"], errors='coerce')\n",
    "tabela_plot = tabela_plot.dropna(subset=[\"Quant. de threads\"])\n",
    "tabela_plot = tabela_plot.sort_values(by=[\"Tipo\", \"Algoritmo\", \"Quant. de threads\"])\n",
    "\n",
    "\n",
    "fig, ax = plt.subplots(figsize=(10, 6))\n",
    "\n",
    "for algoritmo in tabela_plot[\"Algoritmo\"].unique():\n",
    "    dados = tabela_plot[tabela_plot[\"Algoritmo\"] == algoritmo]\n",
    "    \n",
    "    ax.plot(dados[\"Quant. de threads\"], dados[\"Speedup\"], marker='o', label=algoritmo, linewidth=3)\n",
    "\n",
    "ax.set_title(\"Evolução do Speedup por Quantidade de Threads\", fontsize=14)\n",
    "ax.set_xlabel(\"Quantidade de Threads\", fontsize=12)\n",
    "ax.set_ylabel(\"Speedup\", fontsize=12)\n",
    "\n",
    "ax.axhline(1, color='red', linestyle='--', linewidth=0.8, label=\"Speedup = 1\")\n",
    "ax.set_xticks(tabela_plot[\"Quant. de threads\"].unique()) \n",
    "\n",
    "ax.grid(True, linestyle=\"--\", alpha=0.5)\n",
    "ax.legend(title=\"Algoritmo\", loc=\"best\")\n",
    "plt.tight_layout()\n",
    "plt.show()"
   ]
  },
  {
   "cell_type": "code",
   "execution_count": null,
   "id": "5e76ba65",
   "metadata": {},
   "outputs": [],
   "source": [
    "estat = (\n",
    "    df[\n",
    "        (df[\"Tipo\"].str.contains(\"Paralelo\", case=False, na=False)) &\n",
    "        (df[\"Duração (ms)\"] <= 2000)\n",
    "    ]\n",
    "    .groupby([\"Algoritmo\", \"Tipo\", \"Quant. de threads\", \"Tamanho do array\"])[\"Duração (ms)\"]\n",
    "    .agg([\"count\", \"mean\", \"std\", \"min\", \"max\"])\n",
    "    .round(3)\n",
    ")\n",
    "\n",
    "estat_reset = estat.reset_index()\n",
    "\n",
    "plt.figure(figsize=(10, 6))\n",
    "sns.lineplot(\n",
    "    data=estat_reset,\n",
    "    x=\"Quant. de threads\",\n",
    "    y=\"mean\",\n",
    "    hue=\"Algoritmo\",\n",
    "    style=\"Tamanho do array\",\n",
    "    markers=True,\n",
    "    linewidth=4,\n",
    "    markersize=10,\n",
    "    dashes=False\n",
    ")\n",
    "\n",
    "plt.xticks(THREADS_VALUES)\n",
    "\n",
    "x_max = estat_reset[\"Quant. de threads\"].max()\n",
    "for (algoritmo, tamanho), grupo in estat_reset.groupby([\"Algoritmo\", \"Tamanho do array\"]):\n",
    "    ultimo = grupo.sort_values(\"Quant. de threads\").iloc[-1]\n",
    "    plt.text(\n",
    "        x=x_max + 0.5,\n",
    "        y=ultimo[\"mean\"],\n",
    "        s=f\"{int(ultimo['Tamanho do array']):,}\".replace(\",\", \".\"),\n",
    "        fontsize=8,\n",
    "        alpha=0.7\n",
    "    )\n",
    "\n",
    "plt.xlim(1, x_max + 3)\n",
    "\n",
    "plt.title(\"Média de duração (até 2000 ms) por quantidade de threads e tamanho do array\")\n",
    "plt.xlabel(\"Quantidade de threads\")\n",
    "plt.ylabel(\"Duração média (ms)\")\n",
    "plt.tight_layout()\n",
    "plt.legend(loc='center left', bbox_to_anchor=(1, 0.5))\n",
    "plt.show()"
   ]
  },
  {
   "cell_type": "code",
   "execution_count": null,
   "id": "1768b8ce",
   "metadata": {},
   "outputs": [],
   "source": [
    "estat = (\n",
    "    df[\n",
    "        (df[\"Duração (ms)\"] < 2001) &\n",
    "        (df[\"Tamanho do array\"] == 10000000)\n",
    "    ]\n",
    "    .groupby([\"Algoritmo\", \"Tipo\", \"Quant. de threads\", \"Tamanho do array\"])[\"Duração (ms)\"]\n",
    "    .agg([\"count\", \"mean\", \"std\", \"min\", \"max\"])\n",
    "    .round(3)\n",
    ")\n",
    "\n",
    "estat_reset = estat.reset_index()\n",
    "estat_reset[\"Quant. de threads\"] = estat_reset[\"Quant. de threads\"].fillna(1)\n",
    "estat_reset[\"Quant. de threads\"] = estat_reset[\"Quant. de threads\"].astype(int)\n",
    "\n",
    "plt.figure(figsize=(10, 6))\n",
    "sns.lineplot(\n",
    "    data=estat_reset,\n",
    "    x=\"Quant. de threads\",\n",
    "    y=\"mean\",\n",
    "    hue=\"Algoritmo\",\n",
    "    style=\"Tipo\",\n",
    "    markers=True,\n",
    "    linewidth=4,\n",
    "    markersize=10,\n",
    "    dashes=False\n",
    ")\n",
    "\n",
    "plt.xticks(sorted(set(THREADS_VALUES + [1])))\n",
    "plt.title(\"Média de duração (até 2000 ms) por quantidade de threads e tamanho do array\\nTamanho do Array = 10.000.000\")\n",
    "plt.xlabel(\"Quantidade de Threads\")\n",
    "plt.ylabel(\"Duração média (ms)\")\n",
    "plt.tight_layout()\n",
    "plt.legend(loc='center left', bbox_to_anchor=(1, 0.5))\n",
    "plt.show()\n"
   ]
  },
  {
   "cell_type": "code",
   "execution_count": null,
   "id": "9aa6950f",
   "metadata": {},
   "outputs": [],
   "source": [
    "def formatar_valor(valor):\n",
    "    if pd.isna(valor):\n",
    "        return \"\"\n",
    "    return f\"{valor:,.1f}\".replace(\",\", \"X\").replace(\".\", \",\").replace(\"X\", \".\")\n",
    "\n",
    "df_filtrado = df[df[\"Duração (ms)\"] <= 2000000].copy()\n",
    "\n",
    "df_filtrado[\"Tamanho formatado\"] = df_filtrado[\"Tamanho do array\"].apply(lambda x: f\"{x:,}\".replace(\",\", \".\"))\n",
    "\n",
    "df_filtrado[\"Algoritmo - Tamanho\"] = df_filtrado.apply(\n",
    "    lambda row: (row[\"Algoritmo\"], row[\"Tamanho do array\"], f\"{row['Algoritmo']}\\n{row['Tamanho formatado']}\"),\n",
    "    axis=1\n",
    ")\n",
    "df_filtrado[\"Rótulo ordenado\"] = df_filtrado[\"Algoritmo - Tamanho\"].apply(lambda x: x[2])\n",
    "\n",
    "pivot = (\n",
    "    df_filtrado\n",
    "    .groupby([\"Rótulo ordenado\", \"Quant. de threads\"])[\"Duração (ms)\"]\n",
    "    .mean()\n",
    "    .unstack()\n",
    ")\n",
    "\n",
    "ordenacao = df_filtrado.drop_duplicates(\"Rótulo ordenado\").sort_values([\"Algoritmo\", \"Tamanho do array\"])[\"Rótulo ordenado\"]\n",
    "pivot = pivot.loc[ordenacao]\n",
    "\n",
    "pivot_formatado = pivot.applymap(formatar_valor)\n",
    "\n",
    "plt.figure(figsize=(12, 8))\n",
    "sns.heatmap(\n",
    "    pivot,\n",
    "    annot=pivot_formatado,\n",
    "    fmt=\"\",\n",
    "    cmap=\"YlGnBu\",\n",
    "    linewidths=0.5,\n",
    "    linecolor=\"gray\"\n",
    ")\n",
    "\n",
    "plt.title(\"Duração média por Algoritmo e Tamanho do Array\")\n",
    "plt.xlabel(\"Quantidade de Threads\")\n",
    "plt.ylabel(\"Algoritmo\\nTamanho do Array\")\n",
    "plt.tight_layout()\n",
    "plt.show()\n"
   ]
  },
  {
   "cell_type": "code",
   "execution_count": null,
   "id": "034b3a22",
   "metadata": {},
   "outputs": [],
   "source": [
    "pivot = (\n",
    "    df[df[\"Duração (ms)\"] <= 2000]\n",
    "    .groupby([\"Quant. de threads\", \"Algoritmo\"])[\"Duração (ms)\"]\n",
    "    .mean()\n",
    "    .unstack()\n",
    ")\n",
    "\n",
    "pivot.plot(kind=\"bar\", stacked=True, figsize=(10, 6))\n",
    "plt.title(\"Tempo total por Threads (empilhado por Algoritmo)\")\n",
    "plt.ylabel(\"Duração média (ms)\")\n",
    "plt.xlabel(\"Quantidade de Threads\")\n",
    "plt.tight_layout()\n",
    "plt.show()\n"
   ]
  }
 ],
 "metadata": {
  "kernelspec": {
   "display_name": "Python 3",
   "language": "python",
   "name": "python3"
  },
  "language_info": {
   "codemirror_mode": {
    "name": "ipython",
    "version": 3
   },
   "file_extension": ".py",
   "mimetype": "text/x-python",
   "name": "python",
   "nbconvert_exporter": "python",
   "pygments_lexer": "ipython3",
   "version": "3.13.7"
  }
 },
 "nbformat": 4,
 "nbformat_minor": 5
}
